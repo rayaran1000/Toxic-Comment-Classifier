{
 "cells": [
  {
   "cell_type": "code",
   "execution_count": 1,
   "metadata": {},
   "outputs": [],
   "source": [
    "import os"
   ]
  },
  {
   "cell_type": "code",
   "execution_count": 2,
   "metadata": {},
   "outputs": [
    {
     "data": {
      "text/plain": [
       "'e:\\\\Projects for portfolio\\\\Toxic Comment Classifier\\\\research'"
      ]
     },
     "execution_count": 2,
     "metadata": {},
     "output_type": "execute_result"
    }
   ],
   "source": [
    "%pwd"
   ]
  },
  {
   "cell_type": "code",
   "execution_count": 3,
   "metadata": {},
   "outputs": [],
   "source": [
    "os.chdir(\"../\")"
   ]
  },
  {
   "cell_type": "code",
   "execution_count": 4,
   "metadata": {},
   "outputs": [
    {
     "data": {
      "text/plain": [
       "'e:\\\\Projects for portfolio\\\\Toxic Comment Classifier'"
      ]
     },
     "execution_count": 4,
     "metadata": {},
     "output_type": "execute_result"
    }
   ],
   "source": [
    "%pwd"
   ]
  },
  {
   "cell_type": "code",
   "execution_count": 5,
   "metadata": {},
   "outputs": [],
   "source": [
    "# Entity\n",
    "from dataclasses import dataclass\n",
    "from pathlib import Path\n",
    "\n",
    "@dataclass(frozen=True)\n",
    "class DataTransformationConfig: # defined for the config components present in artifacts for data transformation\n",
    "    root_dir : Path \n",
    "    data_path : Path"
   ]
  },
  {
   "cell_type": "code",
   "execution_count": 6,
   "metadata": {},
   "outputs": [],
   "source": [
    "# Configuration manager\n",
    "from ToxicCommentClassifier.constants import *\n",
    "from ToxicCommentClassifier.utils.common import read_yaml,create_directories\n",
    "\n",
    "class ConfigurationManager:\n",
    "    def __init__(\n",
    "            self,\n",
    "            config_filepath = CONFIG_FILE_PATH,\n",
    "            params_filepath = PARAMS_FILE_PATH):\n",
    "    # Here we are reading the yaml file and we can now use the file paths present inside pararms and config.yaml        \n",
    "        self.config = read_yaml(config_filepath)\n",
    "        self.params = read_yaml(params_filepath)\n",
    "\n",
    "        create_directories([self.config.artifacts_root]) # Here we are calling the artifacts_root key values using '.' , which was the purpose of @ensure_annotations\n",
    "\n",
    "    def get_data_transformation_config(self) -> DataTransformationConfig: # Here we are using the entity to specify the return type classes to make sure proper output is returned\n",
    "        config= self.config.data_transformation # Calling the data_validation dictionary created in config.yaml file\n",
    "\n",
    "        create_directories([config.root_dir]) # Creating a directory using the root directory\n",
    "\n",
    "        data_transformation_config = DataTransformationConfig( # Extracting the values from the config.yaml to here inside data_ingestion_config\n",
    "            root_dir=config.root_dir,\n",
    "            data_path=config.data_path\n",
    "        )\n",
    "\n",
    "        return data_transformation_config"
   ]
  },
  {
   "cell_type": "code",
   "execution_count": 7,
   "metadata": {},
   "outputs": [],
   "source": [
    "#Data Transformation\n",
    "import pickle\n",
    "import pandas as pd\n",
    "from ToxicCommentClassifier.logging import logger"
   ]
  },
  {
   "cell_type": "code",
   "execution_count": 10,
   "metadata": {},
   "outputs": [],
   "source": [
    "class DataTransformation:\n",
    "    def __init__(self,config:DataTransformationConfig): # It will take the configuration from DataIngestionConfig defined earlier , which will in turn use Configuration Manager to take data from config.yaml\n",
    "        self.config = config\n",
    "\n",
    "    def load_dataset(self): # Used for tokenization of input text field\n",
    "\n",
    "        # Loading the dataset\n",
    "        with open(self.config.data_path, \"rb\") as f:\n",
    "            dataset = pickle.load(f)\n",
    "            return dataset\n",
    "        \n",
    "    def transform(self):\n",
    "\n",
    "        label_columns = ['toxic', 'severe_toxic', 'obscene', 'threat', 'insult', 'identity_hate']\n",
    "        dataset = self.load_dataset()\n",
    "\n",
    "        # Creating seperate train and validation datasets and concatenating the label columns into a list\n",
    "        dataset_train = pd.DataFrame(dataset['train'])\n",
    "        dataset_validation = pd.DataFrame(dataset['validation'])\n",
    "        \n",
    "        dataset_train['label'] = dataset_train[label_columns].astype('float32').apply(list, axis=1)\n",
    "        dataset_train = dataset_train[['comment_text','label']]\n",
    "        \n",
    "        dataset_validation['label'] = dataset_validation[label_columns].astype('float32').apply(list, axis=1)\n",
    "        dataset_validation = dataset_validation[['comment_text','label']]\n",
    "        logger.info(\"Data Transformation done\")\n",
    "\n",
    "        #Saving the transformed datasets\n",
    "        train_transformed_path = os.path.join(self.config.root_dir , 'train_transformed')\n",
    "        validation_transformed_path = os.path.join(self.config.root_dir , 'validation_transformed')\n",
    "\n",
    "        dataset_train.to_csv(train_transformed_path,index=False)\n",
    "        dataset_validation.to_csv(validation_transformed_path,index=False)\n",
    "         "
   ]
  },
  {
   "cell_type": "code",
   "execution_count": 11,
   "metadata": {},
   "outputs": [
    {
     "name": "stdout",
     "output_type": "stream",
     "text": [
      "[2024-04-18 16:01:24,890: INFO: common: yaml file: config\\config.yaml loaded successfully]\n",
      "[2024-04-18 16:01:24,892: INFO: common: yaml file: params.yaml loaded successfully]\n",
      "[2024-04-18 16:01:24,893: INFO: common: created directory at: artifacts]\n",
      "[2024-04-18 16:01:24,894: INFO: common: created directory at: artifacts/data_transformation]\n",
      "<class 'float'>\n",
      "[2024-04-18 16:01:27,205: INFO: 3005519555: Data Transformation done]\n"
     ]
    }
   ],
   "source": [
    "try:\n",
    "    config = ConfigurationManager()\n",
    "    data_transformation_config = config.get_data_transformation_config() # Storing the configuration\n",
    "    data_transformation = DataTransformation(config=data_transformation_config) # Using the configuration saved earlier to call model_transformation\n",
    "    data_transformation.transform()\n",
    "except Exception as e:\n",
    "    raise e"
   ]
  },
  {
   "cell_type": "code",
   "execution_count": null,
   "metadata": {},
   "outputs": [],
   "source": []
  }
 ],
 "metadata": {
  "kernelspec": {
   "display_name": "toxic",
   "language": "python",
   "name": "python3"
  },
  "language_info": {
   "codemirror_mode": {
    "name": "ipython",
    "version": 3
   },
   "file_extension": ".py",
   "mimetype": "text/x-python",
   "name": "python",
   "nbconvert_exporter": "python",
   "pygments_lexer": "ipython3",
   "version": "3.10.14"
  }
 },
 "nbformat": 4,
 "nbformat_minor": 2
}
